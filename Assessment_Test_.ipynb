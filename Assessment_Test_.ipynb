{
  "nbformat": 4,
  "nbformat_minor": 0,
  "metadata": {
    "colab": {
      "provenance": []
    },
    "kernelspec": {
      "name": "python3",
      "display_name": "Python 3"
    },
    "language_info": {
      "name": "python"
    }
  },
  "cells": [
    {
      "cell_type": "markdown",
      "source": [
        "# Question:01"
      ],
      "metadata": {
        "id": "AO6C18j9n1nB"
      }
    },
    {
      "cell_type": "code",
      "execution_count": 1,
      "metadata": {
        "colab": {
          "base_uri": "https://localhost:8080/"
        },
        "id": "4XgjeKXenvKh",
        "outputId": "a29fab8d-3132-4ed4-ec0a-af441438ecdc"
      },
      "outputs": [
        {
          "output_type": "stream",
          "name": "stdout",
          "text": [
            "Enter car fuel type (electric/gas): GAs\n",
            "Enter car name: Toyota\n",
            "Enter car model: IST\n",
            "Enter car year: 2002\n",
            "Enter fuel efficiency (MPG): 15\n",
            "Car Information: \n",
            " 2002 Toyota IST \n",
            " Fuel Efficiency: 15 MPG\n"
          ]
        }
      ],
      "source": [
        "class Car:\n",
        "  #Parent Class\n",
        "  def __init__(self, name, model, year):\n",
        "      self.name = name\n",
        "      self.model = model\n",
        "      self.year = year\n",
        "\n",
        "class ElectricCar(Car):\n",
        "  #Child class of Car for Electric car\n",
        "  def __init__(self, name, model, year, battery_capacity):\n",
        "      super().__init__(name, model, year)\n",
        "      self.battery_capacity = battery_capacity\n",
        "\n",
        "  def __str__(self):\n",
        "    return 'Car Information: \\n {} {} {} \\n Battery Capacity: {} kWh'.format(self.year, self.name, self.model, self.battery_capacity)\n",
        "\n",
        "class GasCar(Car):\n",
        "  #Child class of Car for Gas car\n",
        "  def __init__(self, name, model, year, fuel_efficiency):\n",
        "      super().__init__(name, model, year)\n",
        "      self.fuel_efficiency = fuel_efficiency\n",
        "\n",
        "  def __str__(self):\n",
        "    return 'Car Information: \\n {} {} {} \\n Fuel Efficiency: {} MPG'.format(self.year, self.name, self.model, self.fuel_efficiency)\n",
        "\n",
        "\n",
        "# Taking User Input:\n",
        "fuel_type = input(\"Enter car fuel type (electric/gas): \")\n",
        "name = input(\"Enter car name: \")\n",
        "model = input(\"Enter car model: \")\n",
        "year = input(\"Enter car year: \")\n",
        "\n",
        "if fuel_type.lower() == 'electric':\n",
        "  battery_capacity = input(\"Enter battery capacity (kWh): \")\n",
        "  #passing argument to the constructor of the ElectricCar class.\n",
        "  car = ElectricCar(name, model, year, battery_capacity)\n",
        "  print(car)\n",
        "\n",
        "elif fuel_type.lower() == 'gas':\n",
        "  fuel_efficiency = input(\"Enter fuel efficiency (MPG): \")\n",
        "  #passing argument to the constructor of the GasCar class.\n",
        "  car = GasCar(name, model, year, fuel_efficiency)\n",
        "  print(car)\n",
        "\n",
        "else:\n",
        "  print(\"Invalid fuel type entered.\")\n"
      ]
    }
  ]
}